{
 "cells": [
  {
   "cell_type": "markdown",
   "metadata": {},
   "source": [
    "# D-U-N-S Extractor"
   ]
  },
  {
   "cell_type": "code",
   "execution_count": 1,
   "metadata": {},
   "outputs": [],
   "source": [
    "# pip install -U selenium\n",
    "\n",
    "# Use this line of code to install selenium if needed"
   ]
  },
  {
   "cell_type": "code",
   "execution_count": 2,
   "metadata": {},
   "outputs": [],
   "source": [
    "import selenium\n",
    "import numpy as np\n",
    "from selenium import webdriver\n",
    "from selenium.webdriver.common.action_chains import ActionChains\n",
    "from selenium.webdriver.common.keys import Keys\n",
    "import time\n",
    "import pandas as pd"
   ]
  },
  {
   "cell_type": "code",
   "execution_count": 3,
   "metadata": {},
   "outputs": [],
   "source": [
    "from selenium.webdriver.support.ui import Select\n",
    "from selenium.webdriver.common.by import By\n",
    "from selenium.webdriver.support.ui import WebDriverWait\n",
    "from selenium.webdriver.support import expected_conditions as EC"
   ]
  },
  {
   "cell_type": "code",
   "execution_count": 4,
   "metadata": {},
   "outputs": [],
   "source": [
    "us_state_abbrev = {\n",
    "    'Alabama': 'AL',\n",
    "    'Alaska': 'AK',\n",
    "    'Arizona': 'AZ',\n",
    "    'Arkansas': 'AR',\n",
    "    'California': 'CA',\n",
    "    'Colorado': 'CO',\n",
    "    'Connecticut': 'CT',\n",
    "    'Delaware': 'DE',\n",
    "    'District Of Columbia': 'DC',\n",
    "    'Florida': 'FL',\n",
    "    'Georgia': 'GA',\n",
    "    'Hawaii': 'HI',\n",
    "    'Idaho': 'ID',\n",
    "    'Illinois': 'IL',\n",
    "    'Indiana': 'IN',\n",
    "    'Iowa': 'IA',\n",
    "    'Kansas': 'KS',\n",
    "    'Kentucky': 'KY',\n",
    "    'Louisiana': 'LA',\n",
    "    'Maine': 'ME',\n",
    "    'Maryland': 'MD',\n",
    "    'Massachusetts': 'MA',\n",
    "    'Michigan': 'MI',\n",
    "    'Minnesota': 'MN',\n",
    "    'Mississippi': 'MS',\n",
    "    'Missouri': 'MO',\n",
    "    'Montana': 'MT',\n",
    "    'Nebraska': 'NE',\n",
    "    'Nevada': 'NV',\n",
    "    'New Hampshire': 'NH',\n",
    "    'New Jersey': 'NJ',\n",
    "    'New Mexico': 'NM',\n",
    "    'New York': 'NY',\n",
    "    'North Carolina': 'NC',\n",
    "    'North Dakota': 'ND',\n",
    "    'Ohio': 'OH',\n",
    "    'Oklahoma': 'OK',\n",
    "    'Oregon': 'OR',\n",
    "    'Pennsylvania': 'PA',\n",
    "    'Rhode Island': 'RI',\n",
    "    'South Carolina': 'SC',\n",
    "    'South Dakota': 'SD',\n",
    "    'Tennessee': 'TN',\n",
    "    'Texas': 'TX',\n",
    "    'Utah': 'UT',\n",
    "    'Vermont': 'VT',\n",
    "    'Virgin Islands': 'VI',\n",
    "    'Virginia': 'VA',\n",
    "    'Washington': 'WA',\n",
    "    'West Virginia': 'WV',\n",
    "    'Wisconsin': 'WI',\n",
    "    'Wyoming': 'WY'\n",
    "}\n",
    "us_state = {value:key for key, value in us_state_abbrev.items()}"
   ]
  },
  {
   "cell_type": "markdown",
   "metadata": {},
   "source": [
    "# Robot"
   ]
  },
  {
   "cell_type": "code",
   "execution_count": 20,
   "metadata": {},
   "outputs": [],
   "source": [
    "from selenium.webdriver.chrome.options import Options\n",
    "import fake_useragent\n",
    "from fake_useragent import UserAgent"
   ]
  },
  {
   "cell_type": "code",
   "execution_count": 21,
   "metadata": {},
   "outputs": [],
   "source": [
    "# send_email(Canme, Cstate, email)\n",
    "# Cname: an array of company names\n",
    "# Cstate: an array of state full name of each company\n",
    "# email: the email address that you wish dnb.com to send you the DUNS number\n",
    "# return: this function return the company names that do not have a DUNS number on dnb.com\n",
    "\n",
    "def send_email(Cname, Cstate, email):\n",
    "    assert len(Cname) == len(Cstate), 'Number of company names do not match with number of States'\n",
    "    unfounded = []\n",
    "    for i in np.arange(len(Cname)):\n",
    "        ua = UserAgent()\n",
    "        user_agent = ua.random\n",
    "        options = webdriver.ChromeOptions()\n",
    "        options.add_argument(f'user-agent={user_agent}')\n",
    "        options.add_argument('--headless')\n",
    "        driver = webdriver.Chrome(options = options)\n",
    "        driver.get(\"https://www.dnb.com/duns-number/lookup.html\")\n",
    "        # First dropdown\n",
    "        time.sleep(7)\n",
    "        select1 = Select(driver.find_element_by_name('primary-reason-dropdown-select-component'))\n",
    "        select1.select_by_visible_text('Other company')\n",
    "        # Fill in Company Names\n",
    "        name = Cname[i]\n",
    "        state = Cstate[i]\n",
    "        print(name)\n",
    "        driver.find_element_by_class_name('search-form__input__name__input').clear()\n",
    "        driver.find_element_by_class_name('search-form__input__name__input').send_keys(name)\n",
    "        # Select State and Click Search\n",
    "        select2 = Select(driver.find_element_by_xpath('//*[@id=\"content\"]/div[5]/form/div/div[2]/div[4]/div[2]/select'))\n",
    "        select2.select_by_visible_text(state)\n",
    "        time.sleep(2)\n",
    "        driver.find_element_by_xpath('//*[@id=\"submit-search\"]').click()\n",
    "        # Click Email link\n",
    "        time.sleep(5)\n",
    "        try:\n",
    "            driver.find_element_by_xpath('//*[@id=\"content\"]/div[5]/div/div[2]/div[2]/div[1]/div[1]/div[3]/div/div/div[1]/a').click()\n",
    "        except Exception:\n",
    "            unfounded.append(name)\n",
    "            driver.quit()\n",
    "            continue\n",
    "        # Send Email\n",
    "        first_name = 'haas'\n",
    "        last_name = 'chou'\n",
    "        driver.find_element_by_xpath('//*[@id=\"content\"]/div[5]/div[1]/div/div/form/div/input[1]').clear()\n",
    "        driver.find_element_by_xpath('//*[@id=\"content\"]/div[5]/div[1]/div/div/form/div/input[1]').send_keys(first_name)\n",
    "\n",
    "        driver.find_element_by_xpath('//*[@id=\"content\"]/div[5]/div[1]/div/div/form/div/input[2]').clear()\n",
    "        driver.find_element_by_xpath('//*[@id=\"content\"]/div[5]/div[1]/div/div/form/div/input[2]').send_keys(last_name)\n",
    "\n",
    "        driver.find_element_by_xpath('//*[@id=\"content\"]/div[5]/div[1]/div/div/form/div/input[3]').clear()\n",
    "        driver.find_element_by_xpath('//*[@id=\"content\"]/div[5]/div[1]/div/div/form/div/input[3]').send_keys(email)\n",
    "        last_click = driver.find_element_by_xpath('//*[@id=\"content\"]/div[5]/div[1]/div/div/form/button').click()\n",
    "        time.sleep(4)\n",
    "        driver.quit()\n",
    "    return unfounded"
   ]
  },
  {
   "cell_type": "markdown",
   "metadata": {},
   "source": [
    "### Please import your dataset with the following code"
   ]
  },
  {
   "cell_type": "code",
   "execution_count": 6,
   "metadata": {},
   "outputs": [],
   "source": [
    "ns = pd.read_csv('name_state.csv')"
   ]
  },
  {
   "cell_type": "markdown",
   "metadata": {},
   "source": [
    "### This section might be modified based on the imported dataset. All the algorithm need is the name of each company and the Abbreviations of its coresponding state (if the dataset has state listed as full name, you won't need to run the replace_abbr)"
   ]
  },
  {
   "cell_type": "code",
   "execution_count": 7,
   "metadata": {},
   "outputs": [],
   "source": [
    "inputds = ns[['company_name', 'state']] # Run this code to get a DF with only company name and state"
   ]
  },
  {
   "cell_type": "code",
   "execution_count": 8,
   "metadata": {},
   "outputs": [],
   "source": [
    "inputds = inputds[(inputds['state'] != 'MP') & (inputds['state'] != 'AS')]"
   ]
  },
  {
   "cell_type": "code",
   "execution_count": 9,
   "metadata": {},
   "outputs": [],
   "source": [
    "def replace_abbr(abbr):\n",
    "    rt = []\n",
    "    for i in abbr:\n",
    "        rt.append(us_state[i])\n",
    "    return rt"
   ]
  },
  {
   "cell_type": "code",
   "execution_count": 10,
   "metadata": {},
   "outputs": [],
   "source": [
    "states = pd.DataFrame(us_state_abbrev.values(), columns = ['state'])"
   ]
  },
  {
   "cell_type": "code",
   "execution_count": 11,
   "metadata": {},
   "outputs": [],
   "source": [
    "inputds = pd.merge(inputds, states, on='state', how='right')"
   ]
  },
  {
   "cell_type": "code",
   "execution_count": 12,
   "metadata": {},
   "outputs": [],
   "source": [
    "inputds['state'] = replace_abbr(inputds['state'])"
   ]
  },
  {
   "cell_type": "code",
   "execution_count": 13,
   "metadata": {},
   "outputs": [],
   "source": [
    "inputds.drop_duplicates(subset =\"company_name\", \n",
    "                     keep = False, inplace = True)"
   ]
  },
  {
   "cell_type": "markdown",
   "metadata": {},
   "source": [
    "### Run the Robot with the following code, and you will recive a lot of emails from dnb.come"
   ]
  },
  {
   "cell_type": "code",
   "execution_count": null,
   "metadata": {},
   "outputs": [],
   "source": [
    "unfound = send_email(inputds['company_name'].to_list(), inputds['state'].to_list(), 'your email address')\n",
    "\n",
    "# you can also adjust the size of your inputds to fit your need. The above code simpliy inputed the entire dataset in\n",
    "# the send_eamil function"
   ]
  },
  {
   "cell_type": "markdown",
   "metadata": {},
   "source": [
    "# Sign in to Gmail"
   ]
  },
  {
   "cell_type": "code",
   "execution_count": 66,
   "metadata": {},
   "outputs": [],
   "source": [
    "email_address = 'your email address'\n",
    "password = 'your email password'"
   ]
  },
  {
   "cell_type": "code",
   "execution_count": 67,
   "metadata": {},
   "outputs": [],
   "source": [
    "def gmail_login():\n",
    "    driver.execute_script(\"window.open('');\")\n",
    "    driver.switch_to.window(driver.window_handles[1])\n",
    "    driver.get('https://accounts.google.com/signin/v2/identifier?continue=https%3A%2F%2Fmail.google.com%2Fmail%2F&service=mail&sacu=1&rip=1&flowName=GlifWebSignIn&flowEntry=ServiceLogin')\n",
    "    driver.find_element_by_xpath('//*[@id=\"identifierId\"]').send_keys(email_address)\n",
    "    driver.find_element_by_xpath('//*[@id=\"identifierNext\"]/span/span').click()\n",
    "    time.sleep(2)\n",
    "    driver.find_element_by_xpath('//*[@id=\"password\"]/div[1]/div/div[1]/input').send_keys(password)\n",
    "    driver.find_element_by_xpath('//*[@id=\"passwordNext\"]/span').click() "
   ]
  },
  {
   "cell_type": "code",
   "execution_count": 70,
   "metadata": {},
   "outputs": [],
   "source": [
    "gmail_login()"
   ]
  },
  {
   "cell_type": "markdown",
   "metadata": {},
   "source": [
    "# Extract Data From Email (yet to finish!)"
   ]
  },
  {
   "cell_type": "code",
   "execution_count": null,
   "metadata": {},
   "outputs": [],
   "source": []
  },
  {
   "cell_type": "code",
   "execution_count": null,
   "metadata": {},
   "outputs": [],
   "source": []
  },
  {
   "cell_type": "code",
   "execution_count": null,
   "metadata": {},
   "outputs": [],
   "source": []
  },
  {
   "cell_type": "code",
   "execution_count": null,
   "metadata": {},
   "outputs": [],
   "source": []
  }
 ],
 "metadata": {
  "kernelspec": {
   "display_name": "Python 3",
   "language": "python",
   "name": "python3"
  },
  "language_info": {
   "codemirror_mode": {
    "name": "ipython",
    "version": 3
   },
   "file_extension": ".py",
   "mimetype": "text/x-python",
   "name": "python",
   "nbconvert_exporter": "python",
   "pygments_lexer": "ipython3",
   "version": "3.7.3"
  }
 },
 "nbformat": 4,
 "nbformat_minor": 2
}
